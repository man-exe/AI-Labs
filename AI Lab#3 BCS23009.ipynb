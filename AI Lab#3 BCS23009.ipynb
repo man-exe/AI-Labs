{
 "cells": [
  {
   "cell_type": "code",
   "execution_count": 1,
   "id": "6248c9d6-b6db-4e02-bf7e-ba396e34cdbc",
   "metadata": {},
   "outputs": [
    {
     "name": "stdout",
     "output_type": "stream",
     "text": [
      "1505\n",
      "1540\n",
      "1575\n",
      "1610\n",
      "1645\n",
      "1680\n",
      "1715\n",
      "1750\n",
      "1785\n",
      "1820\n",
      "1855\n",
      "1890\n",
      "1925\n",
      "1960\n",
      "1995\n",
      "2030\n",
      "2065\n",
      "2100\n",
      "2135\n",
      "2170\n",
      "2205\n",
      "2240\n",
      "2275\n",
      "2310\n",
      "2345\n",
      "2380\n",
      "2415\n",
      "2450\n",
      "2485\n",
      "2520\n",
      "2555\n",
      "2590\n",
      "2625\n",
      "2660\n",
      "2695\n"
     ]
    }
   ],
   "source": [
    "for i in range(1500,2701):\n",
    "    if i % 7 == 0 and i % 5 == 0:\n",
    "        print(i) "
   ]
  },
  {
   "cell_type": "code",
   "execution_count": null,
   "id": "ccd25be2-000f-42b2-8b5e-8e4834de96ea",
   "metadata": {},
   "outputs": [
    {
     "name": "stdout",
     "output_type": "stream",
     "text": [
      "45°C is 113.0° in Fahrenheit\n",
      "95°F is 35.0° in Celsius\n"
     ]
    }
   ],
   "source": [
    "def temperatureConverter(temperature, unit):\n",
    "   if unit == 'c':\n",
    "      result = ((temperature) * 9 / 5) + 32\n",
    "      print(str(temperature) + \"°C is \" + str(result) + \" in Fahrenheit\")\n",
    "   elif unit == 'f':\n",
    "     result =(temperature - 32 ) * 5 / 9\n",
    "     print(str(temperature) + \"°F is \" + str(result) + \" in Celsius\") \n",
    "\n",
    "temperatureConverter(45,'c')\n",
    "temperatureConverter(95,'f')"
   ]
  },
  {
   "cell_type": "code",
   "execution_count": null,
   "id": "68043780-a4f8-48b5-bb50-1ed64a88a708",
   "metadata": {},
   "outputs": [
    {
     "name": "stdout",
     "output_type": "stream",
     "text": [
      "Well guessed\n",
      "\n"
     ]
    }
   ],
   "source": [
    "import random\n",
    "\n",
    "number = random.randint(1, 9)\n",
    "while True:\n",
    "   guess = int(input(\"Guess a number between 1 and 9: \"))\n",
    "   if guess == number:\n",
    "      print(\"Well guessed\\n\")\n",
    "      break"
   ]
  },
  {
   "cell_type": "code",
   "execution_count": 55,
   "id": "b4e11b8f-0aeb-4149-a4b1-06401ce73847",
   "metadata": {},
   "outputs": [
    {
     "name": "stdout",
     "output_type": "stream",
     "text": [
      "*\n",
      "**\n",
      "***\n",
      "****\n",
      "*****\n",
      "****\n",
      "***\n",
      "**\n",
      "*\n"
     ]
    }
   ],
   "source": [
    "for i in range(1, 6):\n",
    "   print('*' * i)\n",
    "for i in range(4, 0, -1):\n",
    "   print('*' * i)"
   ]
  },
  {
   "cell_type": "code",
   "execution_count": 13,
   "id": "0e0898e7-f504-495e-bd16-19970cffbfe6",
   "metadata": {},
   "outputs": [
    {
     "name": "stdout",
     "output_type": "stream",
     "text": [
      "Reversed word: ASUM\n"
     ]
    }
   ],
   "source": [
    "word = input(\"Enter a word: \")\n",
    "print(\"Reversed word: \" + word[::-1])"
   ]
  },
  {
   "cell_type": "code",
   "execution_count": null,
   "id": "5ce9cb61-63be-4b8a-8513-d37ae211fa2a",
   "metadata": {},
   "outputs": [
    {
     "name": "stdout",
     "output_type": "stream",
     "text": [
      "Number of even numbers: 4\n",
      "Number of odd numbers: 5\n"
     ]
    }
   ],
   "source": [
    "numbers = [1, 2, 3, 4, 5, 6 , 7, 8, 9]\n",
    "\n",
    "evenCount = 0\n",
    "oddCount = 0\n",
    "\n",
    "for number in numbers:\n",
    "   if number % 2 == 0:\n",
    "      evenCount += 1\n",
    "   else:\n",
    "      oddCount += 1\n",
    "      \n",
    "print(\"Number of even numbers: \" + str(evenCount))\n",
    "print(\"Number of odd numbers: \" + str(oddCount))"
   ]
  },
  {
   "cell_type": "code",
   "execution_count": 29,
   "id": "46287620-78fa-4bf5-9b0f-d66fb1daea68",
   "metadata": {},
   "outputs": [
    {
     "name": "stdout",
     "output_type": "stream",
     "text": [
      "1452 \t <class 'dict'>\n",
      "11.23 \t <class 'dict'>\n",
      "(1+2j) \t <class 'dict'>\n",
      "True \t <class 'dict'>\n",
      "w3resourse \t <class 'dict'>\n",
      "(0, -1) \t <class 'dict'>\n",
      "[5, 12] \t <class 'dict'>\n",
      "{'class': 'V', 'section': 'A'} \t <class 'dict'>\n"
     ]
    }
   ],
   "source": [
    "datalist = [1452, 11.23, 1 + 2j, True, \"w3resourse\", (0, -1), [5, 12], {\"class\":\"V\", \"section\":'A'}]\n",
    "\n",
    "for data in datalist:\n",
    "   print(data, \"\\t\", type(i))"
   ]
  },
  {
   "cell_type": "code",
   "execution_count": 31,
   "id": "f3ffa0bb-c88f-42ec-a27c-3ccb9d7ce697",
   "metadata": {},
   "outputs": [
    {
     "name": "stdout",
     "output_type": "stream",
     "text": [
      "0 1 2 4 5 "
     ]
    }
   ],
   "source": [
    "for i in range(7):\n",
    "   if i == 3 or i == 6:\n",
    "      continue\n",
    "   print(i, end = \" \")"
   ]
  },
  {
   "cell_type": "code",
   "execution_count": 32,
   "id": "5d4fe115-3726-4627-8e77-d1127ba3d2f9",
   "metadata": {},
   "outputs": [
    {
     "name": "stdout",
     "output_type": "stream",
     "text": [
      "0 1 1 2 3 5 8 13 21 34 "
     ]
    }
   ],
   "source": [
    "a, b = 0, 1\n",
    "while a < 50:\n",
    "   print(a, end = \" \")\n",
    "   a, b = b, a + b"
   ]
  },
  {
   "cell_type": "code",
   "execution_count": 33,
   "id": "6218b620-e23d-4944-83f7-d061dcaaf7a3",
   "metadata": {},
   "outputs": [
    {
     "name": "stdout",
     "output_type": "stream",
     "text": [
      "1\n",
      "2\n",
      "Fizz\n",
      "4\n",
      "Buzz\n",
      "Fizz\n",
      "7\n",
      "8\n",
      "Fizz\n",
      "Buzz\n",
      "11\n",
      "Fizz\n",
      "13\n",
      "14\n",
      "FizzBuzz\n",
      "16\n",
      "17\n",
      "Fizz\n",
      "19\n",
      "Buzz\n",
      "Fizz\n",
      "22\n",
      "23\n",
      "Fizz\n",
      "Buzz\n",
      "26\n",
      "Fizz\n",
      "28\n",
      "29\n",
      "FizzBuzz\n",
      "31\n",
      "32\n",
      "Fizz\n",
      "34\n",
      "Buzz\n",
      "Fizz\n",
      "37\n",
      "38\n",
      "Fizz\n",
      "Buzz\n",
      "41\n",
      "Fizz\n",
      "43\n",
      "44\n",
      "FizzBuzz\n",
      "46\n",
      "47\n",
      "Fizz\n",
      "49\n",
      "Buzz\n"
     ]
    }
   ],
   "source": [
    "for i in range(1, 51):\n",
    "    if i % 3 == 0 and i % 5 == 0:\n",
    "          print(\"FizzBuzz\")\n",
    "    elif i % 3 == 0:\n",
    "        print(\"Fizz\")\n",
    "    elif i % 5 == 0:\n",
    "        print(\"Buzz\")\n",
    "    else:\n",
    "        print(i)"
   ]
  },
  {
   "cell_type": "code",
   "execution_count": 45,
   "id": "c6fc8bdc-e142-4c6e-b767-ecae20565382",
   "metadata": {},
   "outputs": [
    {
     "name": "stdout",
     "output_type": "stream",
     "text": [
      "[0, 0, 0, 0]\n",
      "[0, 1, 2, 3]\n",
      "[0, 2, 4, 6]\n"
     ]
    }
   ],
   "source": [
    "rows = int(input(\"Rows: \"))\n",
    "columns = int(input(\"Columns: \"))\n",
    "\n",
    "array = [[0 for j in range(columns)] for i in range(rows)]\n",
    "\n",
    "for i in range(rows):\n",
    "    for j in range(columns):\n",
    "        array[i][j] = i * j\n",
    "\n",
    "for row in array:\n",
    "    print(row)"
   ]
  },
  {
   "cell_type": "code",
   "execution_count": 1,
   "id": "114b5a1e-ee6d-4508-b0b6-1f61635ec15a",
   "metadata": {},
   "outputs": [
    {
     "name": "stdout",
     "output_type": "stream",
     "text": [
      "i am muhammad musa\n",
      "i am learning python\n"
     ]
    }
   ],
   "source": [
    "lines = []\n",
    "while True:\n",
    "    string = input(\"Enter a line (blank line to stop): \")\n",
    "    if string == \"\":\n",
    "        break\n",
    "    lines.append(string)\n",
    "\n",
    "for line in lines:\n",
    "    print(line.lower())"
   ]
  },
  {
   "cell_type": "code",
   "execution_count": 50,
   "id": "710cb66f-e072-4411-9d76-b83f19c12f05",
   "metadata": {},
   "outputs": [
    {
     "name": "stdout",
     "output_type": "stream",
     "text": [
      "0000 in decimal is: 0\n",
      "1010 in decimal is: 10\n",
      "0101 in decimal is: 5\n"
     ]
    }
   ],
   "source": [
    "data = input(\"Enter 4-digit binary numbers (comma seperated): \")\n",
    "binaries = data.split(\",\")\n",
    "for binary in binaries:\n",
    "    decimal = int(binary, 2)\n",
    "    if decimal % 5 == 0:\n",
    "        print(str(binary) + \" in decimal is: \" + str(decimal))"
   ]
  },
  {
   "cell_type": "code",
   "execution_count": 52,
   "id": "e9725a10-7368-4b82-9c31-534e5de788b9",
   "metadata": {},
   "outputs": [
    {
     "name": "stdout",
     "output_type": "stream",
     "text": [
      "Numbers of letters: 31\n",
      "Numbers of digits: 2\n"
     ]
    }
   ],
   "source": [
    "text = input(\"Enter a string: \")\n",
    "digits = 0\n",
    "letters = 0\n",
    "for c in text:\n",
    "    if c.isalpha():\n",
    "        letters += 1\n",
    "    elif c.isdigit():\n",
    "        digits += 1\n",
    "\n",
    "print(\"Numbers of letters:\", letters)\n",
    "print(\"Numbers of digits:\", digits)"
   ]
  },
  {
   "cell_type": "code",
   "execution_count": 54,
   "id": "5594dc0a-f3e3-47be-9ddb-1714e038b657",
   "metadata": {},
   "outputs": [
    {
     "name": "stdout",
     "output_type": "stream",
     "text": [
      "Valid Password\n"
     ]
    }
   ],
   "source": [
    "password = input(\"Enter your password: \")\n",
    "\n",
    "if len(password) < 6 or len(password) > 16:\n",
    "    print(\"Invalid Password: Length must be between 6 and 16 characters.\")\n",
    "elif not any(char.isupper() for char in password):\n",
    "    print(\"Invalid Password: Must contain at least one uppercase letter.\")\n",
    "elif not any(char.islower() for char in password):\n",
    "    print(\"Invalid Password: Must contain at least one lowercase letter.\")\n",
    "elif not any(char.isdigit() for char in password):\n",
    "    print(\"Invalid Password: Must contain at least one digit.\")\n",
    "elif not any(char in \"$#@\" for char in password):\n",
    "    print(\"Invalid Password: Must contain at least one special character ($, #, or @).\")\n",
    "else:\n",
    "    print(\"Valid Password\")\n"
   ]
  }
 ],
 "metadata": {
  "kernelspec": {
   "display_name": "Python 3",
   "language": "python",
   "name": "python3"
  },
  "language_info": {
   "codemirror_mode": {
    "name": "ipython",
    "version": 3
   },
   "file_extension": ".py",
   "mimetype": "text/x-python",
   "name": "python",
   "nbconvert_exporter": "python",
   "pygments_lexer": "ipython3",
   "version": "3.13.2"
  }
 },
 "nbformat": 4,
 "nbformat_minor": 5
}
