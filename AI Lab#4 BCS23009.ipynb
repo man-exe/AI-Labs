{
 "cells": [
  {
   "cell_type": "code",
   "execution_count": 2,
   "id": "9a2cadc3",
   "metadata": {},
   "outputs": [],
   "source": [
    "class Stack:\n",
    "    def __init__(self):\n",
    "        self.items = []\n",
    "\n",
    "    def push(self, item):\n",
    "        self.items.append(item)\n",
    "\n",
    "    def pop(self):\n",
    "        if self.isEmpty():\n",
    "            print(\"Stack is empty.\")\n",
    "        else:\n",
    "            return self.items.pop()\n",
    "        \n",
    "    def peek(self):\n",
    "        if self.isEmpty():\n",
    "            print(\"Stack is empty.\")\n",
    "        else:\n",
    "            return self.items[-1]\n",
    "\n",
    "    def isEmpty(self):\n",
    "        return len(self.items) == 0\n",
    "\n",
    "    def size(self):\n",
    "        return len(self.items)\n",
    "\n",
    "    def __str__(self):\n",
    "        return f\"Stack({self.items})\"\n",
    "    "
   ]
  },
  {
   "cell_type": "code",
   "execution_count": 1,
   "id": "fa627ea9",
   "metadata": {},
   "outputs": [],
   "source": [
    "class Queue:\n",
    "    def __init__(self):\n",
    "        self.items = []\n",
    "\n",
    "    def enqueue(self, item):\n",
    "        self.items.append(item)\n",
    "\n",
    "    def dequeue(self):\n",
    "        if self.isEmpty():\n",
    "            print(\"Queue is empty.\")\n",
    "        else:\n",
    "            return self.items.pop(0)\n",
    "\n",
    "    def peek(self):\n",
    "        if self.isEmpty():\n",
    "            print(\"Queue is empty.\")\n",
    "        else:\n",
    "            return self.items[0]\n",
    "\n",
    "    def isEmpty(self):\n",
    "        return len(self.items) == 0\n",
    "    \n",
    "    def size(self):\n",
    "        return len(self.items)\n",
    "    \n",
    "    def __str__(self):\n",
    "        return f\"Queue({self.items})\"\n"
   ]
  },
  {
   "cell_type": "code",
   "execution_count": 7,
   "id": "4cf569a5",
   "metadata": {},
   "outputs": [],
   "source": [
    "def binarySearch(arr, left, right, target):\n",
    "    if left > right:\n",
    "        return -1\n",
    "    \n",
    "    middle = (left + right) / 2\n",
    "    if target == arr[middle]:\n",
    "        return middle\n",
    "    elif target < arr[middle]:\n",
    "        return binarySearch(arr, left, middle, target)\n",
    "    else:\n",
    "        return binarySearch(arr, middle + 1, right, target)"
   ]
  }
 ],
 "metadata": {
  "kernelspec": {
   "display_name": "Python 3",
   "language": "python",
   "name": "python3"
  },
  "language_info": {
   "codemirror_mode": {
    "name": "ipython",
    "version": 3
   },
   "file_extension": ".py",
   "mimetype": "text/x-python",
   "name": "python",
   "nbconvert_exporter": "python",
   "pygments_lexer": "ipython3",
   "version": "3.13.2"
  }
 },
 "nbformat": 4,
 "nbformat_minor": 5
}
