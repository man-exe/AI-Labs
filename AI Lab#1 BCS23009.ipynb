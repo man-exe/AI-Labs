{
 "cells": [
  {
   "cell_type": "code",
   "execution_count": 3,
   "metadata": {},
   "outputs": [
    {
     "name": "stdout",
     "output_type": "stream",
     "text": [
      "Hello Wolrd!\n"
     ]
    }
   ],
   "source": [
    "print(\"Hello Wolrd!\")\n"
   ]
  },
  {
   "cell_type": "code",
   "execution_count": null,
   "metadata": {},
   "outputs": [
    {
     "name": "stdout",
     "output_type": "stream",
     "text": [
      "There are two comments\n"
     ]
    }
   ],
   "source": [
    "x = 1\n",
    "# the initial value of x is 1\n",
    "if x > 0:\n",
    "    print(\"There are two comments\")     # print a statement"
   ]
  },
  {
   "cell_type": "code",
   "execution_count": null,
   "metadata": {},
   "outputs": [
    {
     "name": "stdout",
     "output_type": "stream",
     "text": [
      "hello\n"
     ]
    }
   ],
   "source": [
    "txt = input(\"Type something to test out:\")\n",
    "print(txt)"
   ]
  },
  {
   "cell_type": "code",
   "execution_count": 5,
   "metadata": {},
   "outputs": [
    {
     "name": "stdout",
     "output_type": "stream",
     "text": [
      "statement#1\n",
      "statement#2\n",
      "statement#3\n",
      "statement#4\n"
     ]
    }
   ],
   "source": [
    "print(\"statement#1\")\n",
    "print(\"statement#2\")\n",
    "# you can write two statements on single line\n",
    "print(\"statement#3\"); print(\"statement#4\")"
   ]
  },
  {
   "cell_type": "code",
   "execution_count": null,
   "metadata": {},
   "outputs": [
    {
     "ename": "IndentationError",
     "evalue": "expected an indented block after 'if' statement on line 2 (2706069244.py, line 3)",
     "output_type": "error",
     "traceback": [
      "\u001b[1;36m  Cell \u001b[1;32mIn[10], line 3\u001b[1;36m\u001b[0m\n\u001b[1;33m    print(\"There is no indentation\")     #print a statement\u001b[0m\n\u001b[1;37m    ^\u001b[0m\n\u001b[1;31mIndentationError\u001b[0m\u001b[1;31m:\u001b[0m expected an indented block after 'if' statement on line 2\n"
     ]
    }
   ],
   "source": [
    "x = 1\n",
    "if x > 0:\n",
    "print(\"There is no indentation\")     # print a statement"
   ]
  },
  {
   "cell_type": "code",
   "execution_count": null,
   "metadata": {},
   "outputs": [
    {
     "name": "stdout",
     "output_type": "stream",
     "text": [
      "There is a single space indentation\n"
     ]
    }
   ],
   "source": [
    "x = 1\n",
    "if x > 0:\n",
    " print(\"There is a single space indentation\")"
   ]
  },
  {
   "cell_type": "code",
   "execution_count": 13,
   "metadata": {},
   "outputs": [
    {
     "name": "stdout",
     "output_type": "stream",
     "text": [
      "There is a single tab indentation\n"
     ]
    }
   ],
   "source": [
    "x = 1\n",
    "if x > 0:\n",
    "    print(\"There is a single tab indentation\")"
   ]
  },
  {
   "cell_type": "code",
   "execution_count": 15,
   "metadata": {},
   "outputs": [
    {
     "name": "stdout",
     "output_type": "stream",
     "text": [
      "There is a single space + tab indentation\n"
     ]
    }
   ],
   "source": [
    "x = 1\n",
    "if x > 0:\n",
    "    print(\"There is a single space + tab indentation\")"
   ]
  },
  {
   "cell_type": "code",
   "execution_count": 6,
   "metadata": {},
   "outputs": [
    {
     "name": "stdout",
     "output_type": "stream",
     "text": [
      "<class 'int'>\n",
      "<class 'float'>\n",
      "<class 'complex'>\n",
      "<class 'bool'>\n"
     ]
    }
   ],
   "source": [
    "a = 12\n",
    "b = 3.14\n",
    "c = 3 + 9j\n",
    "d = False\n",
    "\n",
    "print(type(a))\n",
    "print(type(b))\n",
    "print(type(c))\n",
    "print(type(d))\n"
   ]
  },
  {
   "cell_type": "code",
   "execution_count": 7,
   "metadata": {},
   "outputs": [
    {
     "name": "stdout",
     "output_type": "stream",
     "text": [
      "string#1\n",
      "<class 'str'>\n"
     ]
    }
   ],
   "source": [
    "str1 = \"string#1\"\n",
    "print(str1)\n",
    "print(type(str1))"
   ]
  },
  {
   "cell_type": "code",
   "execution_count": 8,
   "metadata": {},
   "outputs": [
    {
     "name": "stdout",
     "output_type": "stream",
     "text": [
      "This is a backlash (\\) sign\n",
      "This is a tab \t sign\n",
      "This is a single quotes' sign\n",
      "This is a double quote \" sign\n",
      "This is a new line \n",
      "New Line\n"
     ]
    }
   ],
   "source": [
    "# special statements\n",
    "print(\"This is a backlash (\\\\) sign\")\n",
    "print(\"This is a tab \\t sign\")\n",
    "print(\"This is a single quotes\\' sign\")\n",
    "print(\"This is a double quote \\\" sign\")\n",
    "print(\"This is a new line \\nNew Line\")\n"
   ]
  },
  {
   "cell_type": "code",
   "execution_count": 25,
   "metadata": {},
   "outputs": [
    {
     "name": "stdout",
     "output_type": "stream",
     "text": [
      "P\n",
      "Y\n",
      "T\n",
      "O\n",
      "I\n"
     ]
    }
   ],
   "source": [
    "string1 = \"PYTHON TUTORIAL\"\n",
    "print(string1[0])\n",
    "print(string1[1])\n",
    "print(string1[2])\n",
    "print(string1[-5])\n",
    "print(string1[12])"
   ]
  },
  {
   "cell_type": "code",
   "execution_count": 29,
   "metadata": {},
   "outputs": [
    {
     "name": "stdout",
     "output_type": "stream",
     "text": [
      "[1, 2, 3, 4, 5]\n",
      "<class 'list'>\n",
      "[1.1, 2.2, 3.3, 4.4, 5.5]\n",
      "<class 'list'>\n",
      "[100, 'color', True]\n",
      "<class 'list'>\n"
     ]
    }
   ],
   "source": [
    "list1 = [1,2,3,4,5]\n",
    "print(list1)\n",
    "print(type(list1))\n",
    "\n",
    "list2 = [1.1,2.2,3.3,4.4,5.5]\n",
    "print(list2)\n",
    "print(type(list2))\n",
    "\n",
    "list3 = [100, 'color', True]\n",
    "print(list3)\n",
    "print(type(list3))"
   ]
  },
  {
   "cell_type": "code",
   "execution_count": null,
   "metadata": {},
   "outputs": [
    {
     "name": "stdout",
     "output_type": "stream",
     "text": [
      "True\n"
     ]
    }
   ],
   "source": [
    "# list indices\n",
    "print(list3[2])"
   ]
  },
  {
   "cell_type": "code",
   "execution_count": null,
   "metadata": {},
   "outputs": [
    {
     "name": "stdout",
     "output_type": "stream",
     "text": [
      "[1, 2, 3]\n",
      "[3.3, 4.4]\n"
     ]
    }
   ],
   "source": [
    "# list slices\n",
    "print(list1[: 3])\n",
    "print(list2[-3: -1])"
   ]
  }
 ],
 "metadata": {
  "kernelspec": {
   "display_name": "Python 3",
   "language": "python",
   "name": "python3"
  },
  "language_info": {
   "codemirror_mode": {
    "name": "ipython",
    "version": 3
   },
   "file_extension": ".py",
   "mimetype": "text/x-python",
   "name": "python",
   "nbconvert_exporter": "python",
   "pygments_lexer": "ipython3",
   "version": "3.12.5"
  }
 },
 "nbformat": 4,
 "nbformat_minor": 2
}
